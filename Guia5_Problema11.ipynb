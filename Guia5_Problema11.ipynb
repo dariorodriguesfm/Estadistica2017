{
 "metadata": {
  "name": "",
  "signature": "sha256:43fff7f7ccd169ca589142a42cc824b7e6260b1a7206410acf9eed633bbf6370"
 },
 "nbformat": 3,
 "nbformat_minor": 0,
 "worksheets": [
  {
   "cells": [
    {
     "cell_type": "markdown",
     "metadata": {},
     "source": [
      "Propagaci\u00f3n de errores\n",
      "======================\n",
      "\n",
      "### Autor: _Pablo Bellino_ (`pbellino@gmail.com`)\n",
      "### Materia: Estad\u00edstica en F\u00edsica Experimental, 2017\n"
     ]
    },
    {
     "cell_type": "code",
     "collapsed": false,
     "input": [
      "%matplotlib inline \n",
      "\n",
      "from __future__ import division\n",
      "\n",
      "import numpy as np\n",
      "import matplotlib.pyplot as plt"
     ],
     "language": "python",
     "metadata": {},
     "outputs": [],
     "prompt_number": 1
    },
    {
     "cell_type": "markdown",
     "metadata": {},
     "source": [
      "###Problema 11 de la Guia 5\n",
      "\n",
      "_**Verifique los resultados anal\u00edticos obtenidos en el \u00edtem 10d escribiendo un programa que realice la siguiente simulaci\u00f3n num\u00e9rica:**_\n",
      "  "
     ]
    },
    {
     "cell_type": "markdown",
     "metadata": {},
     "source": [
      "_**(b)  Ajuste una reacta a los ($x_i$,$y_i$) generados, y prediga el valor $y_a$ para $x_a=0.5$**_ "
     ]
    },
    {
     "cell_type": "code",
     "collapsed": false,
     "input": [
      "def ajuste_cm(x,y):\n",
      "    '''\n",
      "    Funci\u00f3n para ajustar por cuadrados m\u00ednimos una recta\n",
      "    de la forma y = a+b*x\n",
      "    Se asume que los 'x' no poseen errores\n",
      "    Se asume que todos los 'y' tienen el mismo error.\n",
      "    \n",
      "    Salida: a,b\n",
      "    -------\n",
      "    '''\n",
      "    if not len(x)==len(y): \n",
      "        print('x e y no tienen el mismo tama\u00f1o')\n",
      "        quit()\n",
      "        \n",
      "    N = len(x)\n",
      "    x2 = x**2   \n",
      "    xy = x*y\n",
      "    \n",
      "    Det = N*x2.sum()-x.sum()**2\n",
      "    \n",
      "    a = ( x2.sum()*y.sum() - x.sum()*xy.sum() )/Det\n",
      "    b = ( N*xy.sum()-x.sum()*y.sum() )/Det\n",
      "    \n",
      "    return a,b"
     ],
     "language": "python",
     "metadata": {},
     "outputs": [],
     "prompt_number": 2
    },
    {
     "cell_type": "markdown",
     "metadata": {},
     "source": [
      "_**(a)  Para cada $x_i$ genere al azar un $y_i$ de la distribuci\u00f3n gaussiana $N(\\hat a_1 + \\hat a_2,\\sigma)$.**_"
     ]
    },
    {
     "cell_type": "markdown",
     "metadata": {},
     "source": [
      "Se definen los par\u00e1metros que se van a utilizar para generar una variable con distribuci\u00f3n normal. La esperanza de la variable aleatoria $Y$ va a escribirse como:\n",
      "\\begin{equation}\n",
      "E[y_i] = \\mu_i = f(x_i) =  a_1 + a_2 x_i\n",
      "\\end{equation}\n",
      "donde se fijaron los par\u00e1metros $a_1 = 1$ y $a_2 = 4$.\n",
      "\n",
      "Se define tambi\u00e9n el valor de la desviaci\u00f3n estandar de cada $y_i$. Sin embargo al ser tomados todos iguales, no interviene en la estimaci\u00f3n de los estimadores $\\hat a_1$ y $\\hat a_2$ por cuadrados m\u00ednimos. S\u00f3lo ser\u00e1 utilizada para calcular la matriz de covarianza de los estimadores.\n",
      "\n",
      "Se define tambi\u00e9n el valor de $x_a=0.5$ del cual se quiere evaluar $f(x_a)$ una vez encontrados los estimadores de la recta."
     ]
    },
    {
     "cell_type": "code",
     "collapsed": false,
     "input": [
      "# Definici\u00f3n de los x's\n",
      "dx = 0.1\n",
      "x = np.arange(2.0,3.0+dx,dx)\n",
      "\n",
      "# Definici\u00f3n de los y's\n",
      "a1,a2 = 1,4  # Valores de los par\u00e1metros de la recta y=a1+a2*x\n",
      "\n",
      "sigma = 3.0     # Desviaci\u00f3n estandar de los y's\n",
      "mu = a1 + a2*x  # Valor medio de los y's\n",
      "\n",
      "# Par\u00e1metro a evaluar en la reacta obtenida del ajuste\n",
      "xa = 0.5"
     ],
     "language": "python",
     "metadata": {},
     "outputs": [],
     "prompt_number": 3
    },
    {
     "cell_type": "markdown",
     "metadata": {},
     "source": [
      "_** Repita 1000 veces los pasos (a)-(b)...**_\n",
      "\n",
      "En este fragmento se repiten 1000 veces la generaci\u00f3n de los datos $(x_i,y_i$) y se realiza el ajuste correspondiente en cada caso.  Con los estimadores $\\hat a_1$ y $\\hat a_2$ se obtiene el valor $y_a = \\hat a_1 + \\hat a_2 x_a$."
     ]
    },
    {
     "cell_type": "code",
     "collapsed": false,
     "input": [
      "# Loop para hacer estad\u00edstica sobre el valor de 'ya=a1+a2*xa'\n",
      "ya=[]\n",
      "for j in range(1000):\n",
      "    # Se generan los valores de y\n",
      "    y = np.random.normal(mu,sigma)\n",
      "    # Se hace el ajuste por cuadrados m\u00ednimos\n",
      "    a1,a2=ajuste_cm(x,y)\n",
      "    # Se calcula el valor de 'ya' y se lo guarda\n",
      "    ya.append(a1 + a2*xa)"
     ],
     "language": "python",
     "metadata": {},
     "outputs": [],
     "prompt_number": 24
    },
    {
     "cell_type": "markdown",
     "metadata": {},
     "source": [
      "_**...construyendo un histograma con los valores de $y_a$, y dibuje sobre \u00e9ste la gaussiana con el valor esperado y el error de $y_a$**_ "
     ]
    },
    {
     "cell_type": "markdown",
     "metadata": {},
     "source": [
      "Se hace el histograma con los valores de $y_a$ obtenidos. Se normaliza el histograma para poder compararlo luego con la funci\u00f3n te\u00f3rica esperada de $y_a$. Se asume que la cantidad de entradas en cada clase del histograma ($y_{ai}$) sigue una distribuci\u00f3n de Poisson (muchos datos y poca probablidad de caer en una dada clase). En base a esto se grafican las barras de error con un $\\sigma_{y_{ai}} = \\sqrt{y_{ai}}$.\n",
      "\n",
      "Se grafica tambi\u00e9n la distribuci\u00f3n te\u00f3rica que debe segur la variable aleatoria $y_a$. Su justificaci\u00f3n est\u00e1 al final del ejercicio."
     ]
    },
    {
     "cell_type": "code",
     "collapsed": false,
     "input": [
      "# Cantidad de clases a utilizar\n",
      "nbin = 15\n",
      "# Array con las nbin posiciones de cada clase\n",
      "mybin = np.linspace(np.amin(ya),np.amax(ya),nbin+1)\n",
      "\n",
      "# Construyo el histograma\n",
      "n, bin_left = np.histogram(ya, bins=mybin)\n",
      "# Busco el centro del bin\n",
      "bin_center = 0.5*(bin_left[:-1]+bin_left[1:])\n",
      "# Ancho del bin\n",
      "dbin = bin_center[1]-bin_center[0]\n",
      "# Valores normalizados\n",
      "n_nor = n/dbin/len(ya)\n",
      "# Se asume que la cantidad de entradas en una clase\n",
      "# sigue una distribuci\u00f3n de Poisson.\n",
      "sig_n = n**0.5\n",
      "# Se Normaliza la incerteza en cada clase\n",
      "n_nor_sig = sig_n/dbin/len(ya)\n",
      "\n",
      "# Gr\u00e1fico del histograma\n",
      "fig1, ax1 = plt.subplots()\n",
      "ax1.bar(\n",
      "    # Para un valor x, se grafica un barra que va desde 'x' hasta 'x+widht'\n",
      "    bin_center-dbin/2, # Obligo a que lo grafique centrado\n",
      "    n_nor,\n",
      "    color = (0.8,0.8,0.8),\n",
      "    width = dbin,\n",
      "    yerr = n_nor_sig,\n",
      "    lw = 0,\n",
      "    error_kw=dict(ecolor=(0.3,0.3,0.3), lw=2, capsize=2, capthick=2),\n",
      "    label='Histograma simulado'\n",
      ")\n",
      "ax1.set_xlabel('$y_a$')\n",
      "\n",
      "# Distribuci\u00f3n te\u00f3rica\n",
      "from scipy.stats import norm\n",
      "\n",
      "z = np.linspace(np.amin(ya),np.amax(ya),100)\n",
      "pdf_teo = norm.pdf(z,3,5.7918)\n",
      "\n",
      "ax1.plot(z,pdf_teo,'r',lw='1',label=u'Distribuci\u00f3n te\u00f3rica')\n",
      "\n",
      "# Bug en matplotlib, hay que invertir el orden de las leyendas\n",
      "handles, labels = ax1.get_legend_handles_labels()\n",
      "ax1.legend(reversed(handles), reversed(labels), loc=(0,1))\n",
      "ax1.grid('on')\n",
      "\n",
      "plt.show()\n"
     ],
     "language": "python",
     "metadata": {},
     "outputs": [
      {
       "metadata": {},
       "output_type": "display_data",
       "png": "[encoded data removed]",
       "text": [
        "<matplotlib.figure.Figure at 0x7ff7a232d6d8>"
       ]
      }
     ],
     "prompt_number": 25
    },
    {
     "cell_type": "heading",
     "level": 4,
     "metadata": {},
     "source": [
      "_Figura 1: con el histograma de los distintos valores de $y_a$ obtenidos de los $1000$ ajustes lineales. Cada clase fue graficada con su correspondiente error (asumido Poissoniano). En rojo se grafic\u00f3 la distribuci\u00f3n te\u00f3rica esperada para $y_a$, correspondiente a una $N(3,5.7918)$_"
     ]
    },
    {
     "cell_type": "markdown",
     "metadata": {},
     "source": [
      "### Distribuci\u00f3n te\u00f3rica\n",
      "\n",
      "La curva te\u00f3rica fue construida sabiendo que la distribuci\u00f3n de probabilidades de $y_a$ es una Normal($\\mu_{y_a}$,$\\sigma_{y_a}$). La esperanza se obtiene de forma inmediata como:\n",
      "\n",
      "\\begin{equation}\n",
      "E(y_a) = E[f(x_a)] = E(\\hat a_1 + \\hat a_2 x_a) = E(\\hat a_1) + E(\\hat a_2) x_a = 1 + 4 \\frac{1}{2} = 3\n",
      "\\end{equation}\n",
      "\n",
      "Para la obtenci\u00f3n de la varianza de $y_a$ se utiliz\u00f3 la f\u00f3rmula de propagaci\u00f3n de errores a partir de la matriz de covarianza entre $\\hat a_1$ y $\\hat a_2$ puede escribirse como:"
     ]
    },
    {
     "cell_type": "markdown",
     "metadata": {},
     "source": [
      "\\begin{equation}\n",
      "\\sigma^2_{y_a} = \\frac{\\sigma^2}{\\Delta}\\left(\\sum_{i=1}^N x_i + x_a^2 N -2x_a\\sum_{i=1}^N\\right)\n",
      "\\end{equation}\n",
      "\n",
      "donde:\n",
      "\\begin{equation}\n",
      "\\Delta = N \\sum_{i=1}^Nx_i^2 - \\left(\\sum_{i=1}^N x_i \\right)^2\n",
      "\\end{equation}\n",
      "\n",
      "Donde fue necesario considerar el t\u00e9rmino de covarianza de los estimadores, ya que de lo contrario se obten\u00edan resultados absurdos. Siguiendo la ecuaci\u00f3n anterior, el valor de la desviaci\u00f3n estandar fue obtenido haciendo:"
     ]
    },
    {
     "cell_type": "code",
     "collapsed": false,
     "input": [
      "N = len(x)\n",
      "x2 = x**2\n",
      "xy = x*y\n",
      "    \n",
      "Det = N*x2.sum()-x.sum()**2\n",
      "\n",
      "var_ya = (sigma**2/Det)*(x2.sum()+xa**2*N-2*xa*x.sum())\n",
      "sig_ya = np.sqrt(var_ya)\n",
      "print('sigma_a = {:.4f}'.format(sig_ya))"
     ],
     "language": "python",
     "metadata": {},
     "outputs": [
      {
       "output_type": "stream",
       "stream": "stdout",
       "text": [
        "sigma_a = 5.7918\n"
       ]
      }
     ],
     "prompt_number": 6
    },
    {
     "cell_type": "markdown",
     "metadata": {},
     "source": [
      "### Conclusiones "
     ]
    },
    {
     "cell_type": "markdown",
     "metadata": {},
     "source": [
      "Se comprob\u00f3 mediante una simulaci\u00f3n num\u00e9rica que la distribuci\u00f3n que sigue la variable $y_a = f(x_a)$ es una normal con esperanza $E[y(x_a)]$ y con una varianza que coincide con la calculada a partir de la propagaci\u00f3n de errores de dos estimadores obtenidos por cuadrados m\u00ednimos de la funci\u00f3n te\u00f3rica $f(x)=a_1+a_2x$. Impl\u00edcitamente se verific\u00f3 la importancia que tiene tener en cuenta la matriz de covarianza para propagar errores. De no haberlo hecho, el erro obtenido para $y_a$ hubiese sido menor (se anular\u00eda cuando $x_a=0$)."
     ]
    },
    {
     "cell_type": "code",
     "collapsed": false,
     "input": [
      "    import sys,matplotlib,scipy\n",
      "    print('Python: {}'.format('.'.join(map(str, sys.version_info[:3]))))\n",
      "    print('Numpy: {}'.format(np.__version__))\n",
      "    print('Matplotlib: {}'.format(matplotlib.__version__))\n",
      "    print('Scipy: {}'.format(scipy.__version__))"
     ],
     "language": "python",
     "metadata": {},
     "outputs": [
      {
       "output_type": "stream",
       "stream": "stdout",
       "text": [
        "Python: 3.5.2\n",
        "Numpy: 1.11.0\n",
        "Matplotlib: 1.5.1\n",
        "Scipy: 0.17.0\n"
       ]
      }
     ],
     "prompt_number": 48
    }
   ],
   "metadata": {}
  }
 ]
}