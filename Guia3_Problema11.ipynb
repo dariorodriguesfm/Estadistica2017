{
 "metadata": {
  "name": "",
  "signature": "sha256:0780eb680b1539220c96f0770c7bf67378445b2e38f7ffe908998bd857a37d10"
 },
 "nbformat": 3,
 "nbformat_minor": 0,
 "worksheets": [
  {
   "cells": [
    {
     "cell_type": "markdown",
     "metadata": {},
     "source": [
      "Generaci\u00f3n de una variable aleatoria con distribuci\u00f3n exponencial\n",
      "=================================================================\n",
      "\n",
      "### Autor: _Pablo Bellino_ (`pbellino@gmail.com`)\n",
      "### Materia: Estad\u00edstica en F\u00edsica Experimental, 2017\n",
      "\n",
      "________________\n",
      "\n",
      "###Problema 11 de la Guia 3\n",
      "\n",
      "_**La variable aleatoria X tiene distribuci\u00f3n uniforme en [0,1].**_\n",
      "  \n",
      "_**(a)  Muestre que $Y= e^X$ tiene distribuci\u00f3n $f_Y(t) = 1/t, 1 < t\\leq e$.\n",
      "Note que \u00e9sto permite escribir una rutina que genere n\u00fameros con distribuci\u00f3n $1/x$.**_"
     ]
    },
    {
     "cell_type": "markdown",
     "metadata": {},
     "source": [
      "Se parte de la conservaci\u00f3n de la probabilidad:\n",
      "\n",
      "\\begin{equation}\n",
      "  f_x(x)dx = f_y(y)dy\n",
      "\\end{equation}\n",
      "\n",
      "y se integra para obtener $y(x)$:\n",
      "\n",
      "\\begin{equation}\n",
      "  \\int_0^x f_x(x)dx = \\int_0^y \\lambda \\exp(-\\lambda t) dt \\quad \\Rightarrow \\quad x = - \\left[\\exp(-\\lambda t)\\right]^y_0 = 1 - \\exp(-\\lambda y)\n",
      "\\end{equation}\n",
      "\n",
      "despejando $y$ de la ecuaci\u00f3n anterior se obtiene:\n",
      "\n",
      "\\begin{equation}\n",
      "  y(x) = - \\frac{1}{\\lambda}\\ln(1-x)\n",
      "\\end{equation}\n",
      "\n",
      "Como $x$ tiene distribuci\u00f3n uniforme en $[0,1]$ entonces es f\u00e1cil de ver que la variable aleatoria $1-x$ tambi\u00e9n tendr\u00e1 dicha distribuci\u00f3n. Por lo cual se puede escribir directamente:\n",
      "\n",
      "\\begin{equation}\n",
      "  y(x) = - \\frac{1}{\\lambda}\\ln(x)\n",
      "\\end{equation}"
     ]
    },
    {
     "cell_type": "markdown",
     "metadata": {},
     "source": [
      "_**(b)  \u00bfC\u00f3mo har\u00eda para generar n\u00fameros al azar con distribuci\u00f3n exponencial?  Implem\u00e9ntelo en la computadora, construya un histograma con 500 n\u00fameros generados y dibuje sobre \u00e9ste la distribuci\u00f3n te\u00f3rica. Use \u03bb=0.25. Hacer esto para dos 2 histogramas: uno con bines de igual ancho en todo el rango (un ancho apropiado para resolver la forma de la distribuci\u00f3n) y otro con bines m\u00e1s  gruesos a partir de Y\u226515. \u00bfC\u00f3mo debe escalear la altura de los bines para que se superponga con la distribuci\u00f3n?**_"
     ]
    },
    {
     "cell_type": "code",
     "collapsed": false,
     "input": [
      "%matplotlib inline \n",
      "\n",
      "from __future__ import division\n",
      "\n",
      "import numpy as np\n",
      "import matplotlib.pyplot as plt"
     ],
     "language": "python",
     "metadata": {},
     "outputs": [],
     "prompt_number": 10
    },
    {
     "cell_type": "markdown",
     "metadata": {},
     "source": [
      "Se definen las magnitudes para la simulaci\u00f3n:"
     ]
    },
    {
     "cell_type": "code",
     "collapsed": false,
     "input": [
      "# Par\u00e1metro de la Exponencial\n",
      "lam = 0.25\n",
      "# Cantidad de puntos para generar\n",
      "N = 500000\n",
      "# L\u00edmite del histograma\n",
      "xmax = 30.0"
     ],
     "language": "python",
     "metadata": {},
     "outputs": [],
     "prompt_number": 11
    },
    {
     "cell_type": "markdown",
     "metadata": {},
     "source": [
      "Se genera una variable aleatoria $x$ con distribuci\u00f3n uniforme en [0,1], y se la utiliza para generar una v.a. con distribuci\u00f3n exponencial de par\u00e1metro $\\lambda$ mediante la transformaci\u00f3n $y(x) = -log(x)/\\lambda$:"
     ]
    },
    {
     "cell_type": "code",
     "collapsed": false,
     "input": [
      "# Se genera una v.a. uniformemente distribuida en [0,1]\n",
      "x = np.random.uniform(0,1,N)\n",
      "# Se genera una variable y con distribuci\u00f3n exponencial de par\u00e1metro lam\n",
      "y = -np.log(x)/lam"
     ],
     "language": "python",
     "metadata": {},
     "outputs": [],
     "prompt_number": 12
    },
    {
     "cell_type": "markdown",
     "metadata": {},
     "source": [
      "### Histograma con clases del mismo ancho\n",
      "\n",
      "Se define el ancho que se quiere tener para todas las clases del histograma mediante la variable `dbin`. A partir de ella queda definido la cantidad de clases que se van a tener."
     ]
    },
    {
     "cell_type": "code",
     "collapsed": false,
     "input": [
      "# Ancho de todas las clases\n",
      "dbin = 1.0\n",
      "# Cantidad de clases\n",
      "nbin = xmax/dbin \n",
      "# Array con las posiciones de cada clase\n",
      "mybin = np.linspace(0,xmax,nbin+1)\n",
      "\n",
      "# Construyo el histograma\n",
      "n, bin_left = np.histogram(y, bins=mybin)\n",
      "# Para graficar, tiro el \u00faltimo punto\n",
      "bins = bin_left[:-1]\n",
      "# Normalizo las entradas en cada clase\n",
      "n_nor = n/dbin/len(y)\n",
      "# Normalizo la incerteza en cada clase\n",
      "n_nor_sig = n**0.5/dbin/len(y)\n",
      "\n",
      "# Grafico\n",
      "fig1, ax1 = plt.subplots()\n",
      "\n",
      "ax1.bar(\n",
      "    bins,\n",
      "    n_nor,\n",
      "    color = (0.8,0.8,0.8),\n",
      "    yerr = n_nor_sig, \n",
      "    width = dbin,\n",
      "    error_kw=dict(ecolor=(0.3,0.3,0.3), lw=2, capsize=2, capthick=2),\n",
      "    label = u'Distribuci\u00f3n generada'\n",
      "    )\n",
      "\n",
      "ax1.set_xlabel('y')\n",
      "ax1.set_ylabel('Probabilidad')\n",
      "\n",
      "# Distribuci\u00f3n te\u00f3rica\n",
      "from scipy.stats import expon\n",
      "\n",
      "y_teo = expon.pdf(bins,0,1/lam)\n",
      "\n",
      "ax1.plot(bins,y_teo,'r',lw='1',label=u'Distribuci\u00f3n te\u00f3rica')\n",
      "\n",
      "ax1.legend(numpoints=1,loc='best')\n",
      "# Bug en matplotlib, hay que invertir el orden de las leyendas\n",
      "handles, labels = ax1.get_legend_handles_labels()\n",
      "ax1.legend(reversed(handles), reversed(labels), loc='best')\n",
      "\n",
      "ax1.grid(True)\n",
      "plt.show()\n"
     ],
     "language": "python",
     "metadata": {},
     "outputs": [
      {
       "metadata": {},
       "output_type": "display_data",
       "png": "[encoded data removed]",
       "text": [
        "<matplotlib.figure.Figure at 0x7f4217f1d490>"
       ]
      }
     ],
     "prompt_number": 13
    },
    {
     "cell_type": "markdown",
     "metadata": {},
     "source": [
      "### Histograma con clases de distinto ancho"
     ]
    },
    {
     "cell_type": "code",
     "collapsed": false,
     "input": [
      "# Punto a partir del cual quiero que las clases sean m\u00e1s anchas\n",
      "x_ancho = 8\n",
      "\n",
      "# Ancho de las primeras clases (las m\u00e1s chicas para esta distribuci\u00f3n)\n",
      "dbin_1 = 1\n",
      "# N\u00famero de clases peque\u00f1as\n",
      "nbin_1 = x_ancho/dbin_1\n",
      "# Array con las posiciones de las clases peque\u00f1as\n",
      "mybin_1 = np.linspace(0,x_ancho,nbin_1+1)\n",
      "\n",
      "print('Clases peque\u00f1as: \\n {}'.format(mybin_1))\n",
      "\n",
      "# Ancho de las clases m\u00e1s grandes\n",
      "dbin_2 = 2\n",
      "# N\u00famero de clases grandes\n",
      "nbin_2 = (xmax-x_ancho)/dbin_2\n",
      "# Array con las posiciones de las clases grandes\n",
      "mybin_2 = np.linspace(x_ancho+dbin_2,xmax,nbin_2)\n",
      "\n",
      "print('Clases grandes: \\n {}'.format(mybin_2))\n",
      "\n",
      "# Combino los arrays con las posiciones de todas las clases\n",
      "mybin = np.append(mybin_1,mybin_2)\n",
      "\n",
      "print('Clases combinadas: \\n {}'.format(mybin))"
     ],
     "language": "python",
     "metadata": {},
     "outputs": [
      {
       "output_type": "stream",
       "stream": "stdout",
       "text": [
        "Clases peque\u00f1as: \n",
        " [ 0.  1.  2.  3.  4.  5.  6.  7.  8.]\n",
        "Clases grandes: \n",
        " [ 10.  12.  14.  16.  18.  20.  22.  24.  26.  28.  30.]\n",
        "Clases combinadas: \n",
        " [  0.   1.   2.   3.   4.   5.   6.   7.   8.  10.  12.  14.  16.  18.  20.\n",
        "  22.  24.  26.  28.  30.]\n"
       ]
      }
     ],
     "prompt_number": 14
    },
    {
     "cell_type": "markdown",
     "metadata": {},
     "source": [
      "Una vez definidas las posiciones donde comienzan cada clase, se construye el histograma correspondiente:"
     ]
    },
    {
     "cell_type": "code",
     "collapsed": false,
     "input": [
      "# Histograma\n",
      "n, bin_left = np.histogram(y, bins=mybin)\n",
      "# Ahora el tama\u00f1o de cada clase cambia, me construyo un array con dichos valores (redundante)\n",
      "dbin = np.diff(bin_left)\n",
      "# Para graficar, tiro el \u00faltimo punto\n",
      "bins = bin_left[:-1]\n",
      "\n",
      "# Normalizo. Si bien es la misma f\u00f3rmula, al ser `dbin` un array\n",
      "# cada clase queda correctamente normalizada con su ancho\n",
      "n_nor = n/dbin/len(y)\n",
      "# Norlalizo la incerteza de cada clase\n",
      "n_nor_sig = (n**0.5)/dbin/len(y)\n",
      "\n",
      "# Grafico el histograma\n",
      "fig2, ax2 = plt.subplots()\n",
      "\n",
      "ax2.bar(\n",
      "    bins,\n",
      "    n_nor,\n",
      "    color = (0.8,0.8,0.8),\n",
      "    yerr = n_nor_sig, \n",
      "    width = dbin,\n",
      "    error_kw=dict(ecolor=(0.3,0.3,0.3), lw=2, capsize=2, capthick=2),\n",
      "    label = u'Distribuci\u00f3n generada'\n",
      "    )\n",
      "\n",
      "ax2.set_xlabel('y')\n",
      "ax2.set_ylabel('Probabilidad')\n",
      "\n",
      "# Distribuci\u00f3n te\u00f3rica\n",
      "\n",
      "from scipy.stats import expon\n",
      "\n",
      "y_teo = expon.pdf(bins,0,1/lam)\n",
      "\n",
      "ax2.plot(bins,y_teo,'r',lw='1',label=u'Distribuci\u00f3n te\u00f3rica')\n",
      "\n",
      "ax2.legend(numpoints=1,loc='best')\n",
      "# Bug en matplotlib, hay que invertir el orden de las leyendas\n",
      "handles, labels = ax2.get_legend_handles_labels()\n",
      "ax2.legend(reversed(handles), reversed(labels), loc='best')\n",
      "\n",
      "ax2.grid(True)\n",
      "plt.show()"
     ],
     "language": "python",
     "metadata": {},
     "outputs": [
      {
       "metadata": {},
       "output_type": "display_data",
       "png": "[encoded data removed]",
       "text": [
        "<matplotlib.figure.Figure at 0x7f421810cd10>"
       ]
      }
     ],
     "prompt_number": 15
    }
   ],
   "metadata": {}
  }
 ]
}