{
 "metadata": {
  "name": "",
  "signature": "sha256:5a7d347b60853e317dcf027e6018cdc61a13dd7ccb03c14e590f482f1824ef47"
 },
 "nbformat": 3,
 "nbformat_minor": 0,
 "worksheets": [
  {
   "cells": [
    {
     "cell_type": "markdown",
     "metadata": {},
     "source": [
      "M\u00e9todo de Monte Carlo.\n",
      "======================\n",
      "\n",
      "Para generar n\u00fameros pseudoaleatorios con una distribuci\u00f3n arbitraria $f(t)$, en un dominio [a,b] en el que $f$ est\u00e1 acotada (siendo $f_m$ su valor m\u00e1ximo) se puede proceder de la siguiente manera:\n",
      "\n",
      "I.  Se generan dos numeros al azar $y$ y $z$ con distribuci\u00f3n uniforme en [0,1].\n",
      "\n",
      "II.  A partir de $y$ y $z$ se determinan $u=a+(b-a)y$ y $v=f_m z$.\n",
      "\n",
      "III.  Si $v\\leq f(u)$, se incluye $x=u$ en la muestra de n\u00fameros generados, en otro caso se descarta.\n",
      "IV.  Se repiten los pasos I-III hasta obtener la cantidad deseada de n\u00fameros aceptados. \n",
      "\n",
      "Utilice este m\u00e9odo para generar las condiciones iniciales de una simulaci\u00f3n  num\u00e9rica que se realiza para estudiar el comportamiento de una esfera de flu\u00eddo (inicialmente en reposo) con una densidad\n",
      "\n",
      "\\begin{equation}\n",
      "\\rho(r) = \\frac{\\rho_o}{1+\\left(\\frac{r}{r_e}\\right)^2} \\qquad (0 < r < r_e)\n",
      "\\end{equation}\n",
      "\n",
      "\n",
      "Para ello genere las posiciones iniciales en coordenadas esf \u0301ericas (considere $r_e=1$) $\\vec r$ de 10000 elementos de flu\u00eddo con una distribuci\u00f3n proporcional a la masa (i.e., la probabilidad de encontrar un elemento de flu\u00eddo en un determinado dV alrededor de $\\vec r$ es proporcional a $\\rho dV$.\n",
      "\n",
      "(a) Escriba la densidad de probabilidad conjunta de $r$, $\\theta$ y $\\phi$ (las coordenadas esf\u00e9ricas usuales).\n",
      "\n",
      "(b)  Calcule las distribuciones de probabilidad marginales de cada una de las coordenadas por separado. \u00bfSon estas independientes?\n",
      "\n",
      "(c)  Genere 10000 valores al azar de cada variable, usando el m\u00e9todo de Monte Carlo. Grafique los histogramas de las distintas variables, y superponga las distribuciones correspondientes.\n",
      "\n",
      "Nota:  este m\u00e9todo propuesto por von Neumann se llama acceptance-rejection o tambi\u00e9n rejection sampling. Ver por ejemplo\n",
      "http://pdg.lbl.gov/2014/reviews/rpp2014-rev-monte-carlo-techniques.pdf\n",
      "."
     ]
    },
    {
     "cell_type": "code",
     "collapsed": false,
     "input": [],
     "language": "python",
     "metadata": {},
     "outputs": []
    }
   ],
   "metadata": {}
  }
 ]
}