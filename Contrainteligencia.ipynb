{
 "metadata": {
  "name": "",
  "signature": "sha256:2844be1efaf3e29008309cee731394971501d07c0ac04aa242734c5f3075e524"
 },
 "nbformat": 3,
 "nbformat_minor": 0,
 "worksheets": [
  {
   "cells": [
    {
     "cell_type": "markdown",
     "metadata": {},
     "source": [
      "Parcial Computacional sobre Test de Hip\u00f3tesis\n",
      "============================================="
     ]
    },
    {
     "cell_type": "markdown",
     "metadata": {},
     "source": [
      "_**Materia: Estad\u00edstica en F\u00edsica Experimental, 2017**_\n",
      "\n",
      "**Alumno: _Pablo Bellino_ (`pbellino@gmail.com`)**\n",
      "\n",
      "**DNI: 26.887.478**\n",
      "\n",
      "\n"
     ]
    },
    {
     "cell_type": "code",
     "collapsed": false,
     "input": [
      "%matplotlib inline \n",
      "\n",
      "from __future__ import division\n",
      "\n",
      "import numpy as np\n",
      "import matplotlib.pyplot as plt"
     ],
     "language": "python",
     "metadata": {},
     "outputs": [],
     "prompt_number": 1
    },
    {
     "cell_type": "markdown",
     "metadata": {},
     "source": [
      "# Contrainteligencia\n",
      "\n",
      "_Aplicando inferencia Bayesiana al **Probelma de los tanques alemanes** es posible escribir la distribuci\u00f3n de probabilidad del par\u00e1metro $m$ (n\u00famero de tanques fabricados por mes) en funci\u00f3n de $k$ (n\u00famero de tanques alemanes capturados) y el $m$ (m\u00e1ximo n\u00famero de serie observado._\n",
      "\n",
      "_Cuando termin\u00f3 la segunda guerra se tuvo acceso al registro de los tanques fabricados mensualmente. Se supo, en particular, que en junio de 1941 se fabricaron 271 tanques alemanes._\n",
      "\n",
      "_Suponga que se quiere testear si hab\u00eda infiltrados alemanes entre los militares aliados que participaron de las batallas que tuvieron lugar durante julio de 1941 (asuma que en julio s\u00f3lo se usaron los tanques fabricados en junio)._"
     ]
    },
    {
     "cell_type": "markdown",
     "metadata": {},
     "source": [
      "Item 1\n",
      "------"
     ]
    },
    {
     "cell_type": "markdown",
     "metadata": {},
     "source": [
      "_Si en una batalla se capturaron $k=10$ tanques alemanes y un militar **aliado** inform\u00f3 que el mayor n\u00famero de serie observado fue $m=80$, dise\u00f1e un test para la hip\u00f3tesis de que se trataba de un infiltrado, es decir, que inform\u00f3 un n\u00famero de serie menor al real para hacerle pensar a los aliados que los alemanes tenian menos tanques. \u00bfCu\u00e1l es la probabilidad de cometer un error tipo I usando el test que dise\u00f1\u00f3?_"
     ]
    },
    {
     "cell_type": "markdown",
     "metadata": {},
     "source": [
      "### Test y estad\u00edstico utilizado\n",
      "\n",
      "El test que se utilizar\u00e1 tendr\u00e1 como hip\u00f3tesis nula $H_0$ la afirmaci\u00f3n de que el militar no minti\u00f3, es decir, que inform\u00f3 el n\u00famero de serie m\u00e1ximo proveniente del hecho de que se fabricaron en total $N=271$ tanques alemanes. La hi\u00f3tesis alternativa $H_1$ ser\u00e1 que el militar minti\u00f3, e inform\u00f3 un n\u00famero m\u00e1ximo proveniente de un total de tanques $N < 271$:\n",
      "\n",
      "\\begin{equation}\n",
      "H_0: N=271\n",
      "\\end{equation}\n",
      "\\begin{equation}\n",
      "H_1: N< 271\n",
      "\\end{equation}\n",
      "\n",
      "El estad\u00edstico que se va a emplear para el test ser\u00e1 el valor m\u00e1ximo $m$ obtenido entre todos los n\u00fameros de series $m_i$ de los $k$ tanques capturados, esto es:\n",
      "\n",
      "\\begin{equation}\n",
      "  m = \\max\\limits_{i}\\{m_i\\} \\qquad i=1,\\ldots,k\n",
      "\\end{equation}\n",
      "\n",
      "### Distribuci\u00f3n de probabilidad del estad\u00edstico\n",
      "\n",
      "Una vez definido el estad\u00edstico, el paso siguiente es encontrar cu\u00e1l es la distribuci\u00f3n que \u00e9ste posee. Para ello se asumir\u00e1 que ya se conoce el n\u00famero total de tanques fabricados ($N=271$). Es decir, todo este an\u00e1lisis ser\u00e1 a posteriori de haber terminado la guerra cuando ya se obtuvieron los registros de la fabricaci\u00f3n de tanques alemanes. Se busca, entonces, encontrar cu\u00e1l es la probabilidad de obtener un m\u00e1ximo n\u00famero de serie $m$ cuando se capturan $k$ tanques, siendo $N$ la cantidad total de tanques fabricados: P(m; k, N)\n",
      "\n",
      "La expresi\u00f3n para la probabilidad $P(m;k,N)$ puede ser deducida mediante el cociente entre los casos favorables y casos posibles que se obtienen de extraer $k$ tanques (distinguibles) entre una poblaci\u00f3n de $N$:\n",
      "    \n",
      "**Cassos posibles**: son todas las formas posibles de tomar $k$ tanques de una muestra de $N$ tanques. Se trata de un muestreo sin reposici\u00f3n, que es igual a la combinatoria $\\binom{N}{k}$. \n",
      "    \n",
      "**Casos favorables**: son aquellos en donde el n\u00famero m\u00e1ximo de serie es $m$ al tomar $k$ tanques. La cantidad de casos favorables se calcula tienendo en cuenta que si de los $k$ tanques, tenemos uno cuyo n\u00famero de serie es el m\u00e1ximo $m$, entonces quedan $(k-1)$ tanques que pueden tener $(m-1)$ n\u00fameros de series menores a $m$. Hay s\u00f3lo una forma de tomar un tanque con el m\u00e1ximo $m$, pero luego se deben contar las distintas formas de asignarle a los los $(k-1)$ tanques restantes los $(m-1)$ n\u00fameros de series disponibles (que obviamente deben ser menores a $m$). Por lo tanto los casos favorables tambi\u00e9n se obtienen de un muestreo sin resposici\u00f3n, dando como resultado la combinatoria $\\binom{m-1}{k-1}$.\n",
      "\n",
      "Haciendo el cociente entre casos favorables y posibles se llega a la expresi\u00f3n para calcular la probabilidad de obtener el n\u00famero de serie m\u00e1ximo $m$ al tomar $k$ tanques de un total de $N$ fabricados:\n",
      "\n",
      "\\begin{equation}\n",
      "    P(m;k,N) = \\frac{\\binom{m-1}{k-1}}{\\binom{N}{k}} \\qquad \\text{con } m = k,k+1,\\ldots,N\n",
      "\\end{equation}\n",
      "  "
     ]
    },
    {
     "cell_type": "code",
     "collapsed": false,
     "input": [
      "# Defino la funci\u00f3n para calular la probabilidad de obtener un n\u00famero m\u00e1ximo m\n",
      "# dados la cantidad de tanques capturado k y el n\u00famero\n",
      "# total de tanques fabricados N.\n",
      "import scipy.special\n",
      "def proba_max(m,k,N):\n",
      "    # Quiero que la funci\u00f3n sirva tanto para un n\u00famero como para un array\n",
      "    if not isinstance(m,list): m = [m]\n",
      "    p = []\n",
      "    for j in m:\n",
      "        p.append(scipy.special.binom(j-1,k-1) / scipy.special.binom(N,k)) \n",
      "    return p[0]"
     ],
     "language": "python",
     "metadata": {},
     "outputs": [],
     "prompt_number": 2
    },
    {
     "cell_type": "markdown",
     "metadata": {},
     "source": [
      "Para los valores de $N$ y $k$ dados en el problema compruebo que la distribuci\u00f3n de probabilidades est\u00e9 normalizada:\n",
      "\n",
      "\\begin{equation}\n",
      "\\sum_{m=k}^{N} P(m;k,N) = 1\n",
      "\\end{equation}"
     ]
    },
    {
     "cell_type": "code",
     "collapsed": false,
     "input": [
      "# N\u00famero total de tanques fabricados\n",
      "N = 271\n",
      "# N\u00famero de tanques capturados en la batalla\n",
      "k = 10\n",
      "# Valores m\u00e1ximos posibles que podr\u00edan haberse observado\n",
      "m = np.arange(k,N+1)\n",
      "# Obtengo la probabilidad para cada valor\n",
      "x=proba_max(m,k,N)\n",
      "\n",
      "print('Sumatoria de las probabilidades para los posibles\\\n",
      "valores de m: {:.6e}'.format(x.sum()))"
     ],
     "language": "python",
     "metadata": {},
     "outputs": [
      {
       "output_type": "stream",
       "stream": "stdout",
       "text": [
        "Sumatoria de las probabilidades para los posiblesvalores de m: 1.000000e+00\n"
       ]
      }
     ],
     "prompt_number": 3
    },
    {
     "cell_type": "markdown",
     "metadata": {},
     "source": [
      "### Gr\u00e1fico de la distribuci\u00f3n\n",
      "\n",
      "Se realiza el gr\u00e1fico de la distribuci\u00f3n de probabilidades en funci\u00f3n de $m$ con los valores fijados por el problema de $k=10$ y $N=271$:"
     ]
    },
    {
     "cell_type": "code",
     "collapsed": false,
     "input": [
      "fig1, ax1 = plt.subplots(ncols=1,figsize=(10,5))\n",
      "\n",
      "ax1.bar(m,x,align='center', color = 'grey', alpha=0.7, width = 1, lw = 0,);\n",
      "ax1.grid('on')\n",
      "ax1.set_xlabel(u'M\u00e1ximo n\u00famero de serie observado',fontsize=14)\n",
      "ax1.set_ylabel('Probabilidad',fontsize=14)\n",
      "ax1.set_title('Figura {}'.format(1),fontsize=14);\n"
     ],
     "language": "python",
     "metadata": {},
     "outputs": [
      {
       "metadata": {},
       "output_type": "display_data",
       "png": "[encoded data removed]",
       "text": [
        "<matplotlib.figure.Figure at 0x7f6651124ad0>"
       ]
      }
     ],
     "prompt_number": 4
    },
    {
     "cell_type": "heading",
     "level": 4,
     "metadata": {},
     "source": [
      "_Figura 1: Gr\u00e1fico de la funci\u00f3n de probabilidades $P(m;k,N)$ del m\u00e1ximo n\u00famero de serie observado $m$, cuando se capturan $k=10$ tanques entre los $N=271$ tanques totales fabricados _"
     ]
    },
    {
     "cell_type": "markdown",
     "metadata": {},
     "source": [
      "### Aplicaci\u00f3n del test de hip\u00f3tesis\n",
      "\n",
      "Ya con el test y el estad\u00edstico bien definidos s\u00f3lo queda aplicarlos al resultado particular que inform\u00f3 el militar aliado, que dijo haber obtenido un m\u00e1ximo n\u00famero de serie $m_{obs}=80$. Se calcular\u00e1 primero el p-valor para el valor observado y posteriormente se analizar\u00e1 el nivel de significancia requerido.\n",
      "\n",
      "Debido a la naturaleza del test elegido, y en particular a la hip\u00f3tesis alternativa, queda claro que el test debe realizarse a una cola inferior.\n",
      "\n",
      "Asumiendo que la hip\u00f3tesis nula es cierta, o sea que el militar no minti\u00f3 e inform\u00f3 una valor m\u00e1ximo $m_{obs}$ consistente con que se hayan fabricado $N=271$ tanques, el p-valor queda definido por la probabilidad de obtener resultados m\u00e1s desfavorables al obtenido con $m_{obs}=80$. Si la hip\u00f3tesis nula es cierta, debe ser v\u00e1lida la distribuci\u00f3n de probabilidad antes calculada, por lo cual:\n",
      "\n",
      "\\begin{equation}\n",
      "p = P(m\\le m_{obs};k,N) = P(m \\le 80;10,271) = \\sum_{m=10}^{80}  \\frac{\\binom{m-1}{10-1}}{\\binom{271}{10}}\n",
      "\\end{equation}\n",
      "\n"
     ]
    },
    {
     "cell_type": "code",
     "collapsed": false,
     "input": [
      "p = x[m<=80].sum()\n",
      "print('El valor p obtenio asumiendo que el militar \\\n",
      "dijo la verdad es: {:.2e}'.format(p))"
     ],
     "language": "python",
     "metadata": {},
     "outputs": [
      {
       "output_type": "stream",
       "stream": "stdout",
       "text": [
        "El valor p obtenio asumiendo que el militar dijo la verdad es: 3.31e-06\n"
       ]
      }
     ],
     "prompt_number": 5
    },
    {
     "cell_type": "markdown",
     "metadata": {},
     "source": [
      "Se puede realizar el gr\u00e1fico de valor p obtenido superpuesto a la distribuci\u00f3n del estad\u00edstico:"
     ]
    },
    {
     "cell_type": "code",
     "collapsed": false,
     "input": [
      "fig2, ax2 = plt.subplots(figsize=(10,5))\n",
      "\n",
      "ax2.bar(m[10:90],x[10:90],align='center',width = 1,lw = 0,alpha=0.7,color='grey')\n",
      "ax2.bar(m[m<=80],x[m<=80],align='center',width=1,lw=0,alpha=0.7,color='r')\n",
      "ax2.set_ylim(0,3.5e-6)\n",
      "ax2.ticklabel_format(axis='y', style='sci', scilimits=(0,0))\n",
      "\n",
      "ax2.grid('on')\n",
      "ax2.set_xlabel(u'M\u00e1ximo n\u00famero de serie observado',fontsize=14)\n",
      "ax2.set_ylabel('Probabilidad',fontsize=14)\n",
      "ax2.set_title('Figura {}'.format(2),fontsize=14);"
     ],
     "language": "python",
     "metadata": {},
     "outputs": [
      {
       "metadata": {},
       "output_type": "display_data",
       "png": "[encoded data removed]",
       "text": [
        "<matplotlib.figure.Figure at 0x7f664e294b10>"
       ]
      }
     ],
     "prompt_number": 6
    },
    {
     "cell_type": "heading",
     "level": 4,
     "metadata": {},
     "source": [
      "_Figura 2: En rojo se grafica el \u00e1rea correspondiente al p-valor cuando el estad\u00edstico del test toma el valor $m_{obs}=80$. En gris est\u00e1 graficada la distribuci\u00f3n completa de $P(m;k,N)$. Notar el cambio de escala realizado respecto a la Figura 1 para que sea apreciable el peque\u00f1o p-valor obtenido._"
     ]
    },
    {
     "cell_type": "markdown",
     "metadata": {},
     "source": [
      "### Nivel de significancia"
     ]
    },
    {
     "cell_type": "markdown",
     "metadata": {},
     "source": [
      "Finalmente, para saber si se rechaza o no la hip\u00f3tesis nula, es necesario definir el nivel de significancia (o zona de rechazo) del test. Si se fija el nivel de significancia del test en $\\alpha=0.05$ resulta que $p<\\alpha$ o que el valor $m_{obs}$ cae dentro de la zona de rechazo. Siendo este el caso, la hip\u00f3tesis nula queda rechazada con un nivel de significancia del $5\\%$. Es decir, se descarta la hip\u00f3tesis de que le militar dijo la verdad, o lo que es lo mismo, la evidencia indica que el militar est\u00e1 mintiendo.\n",
      "\n",
      "Si bien lo expresado en el p\u00e1rrafo anterior es suficiente para realizar el test, el hecho de que el p-valor sea tan chicho est\u00e1 indicando que aunque se hubiera elegido una zona de rechazo a\u00fan m\u00e1s peque\u00f1a (hasta $\\alpha=p$) igual se hubiera rechazado la hip\u00f3tesis nula.\n",
      "\n",
      "Una vez definida la significancia del test, queda definido el error de tipo I que indica cu\u00e1n probable es rechazar la hip\u00f3tesis nula (\"el militar inform\u00f3 el valor real\") siendo esta verdadera. En este caso, dicha probabilidad es de $\\alpha=0.05$."
     ]
    },
    {
     "cell_type": "markdown",
     "metadata": {},
     "source": [
      "-------------------\n",
      "\n",
      "Item 2\n",
      "------"
     ]
    },
    {
     "cell_type": "markdown",
     "metadata": {},
     "source": [
      "_Se analizan los n\u00fameros relevados por otro militar **aliado** tras participar en cinco batallas, estos son $(k_i,m_i)$ = {(8,271),(7,202),(10,213),(12,185),(9,200)}. Se pide construir un test que permita decir si se trataba de un infiltrado o un h\u00e9roe con cierto nivel de confianza._"
     ]
    },
    {
     "cell_type": "markdown",
     "metadata": {},
     "source": [
      "Se definen los cinco pares correspondientes a loslos n\u00fameros $\\{k_i,m_i\\}$ para cada una de las cinco batallas analizadas:"
     ]
    },
    {
     "cell_type": "code",
     "collapsed": false,
     "input": [
      "# Cantidad de tanques capturados\n",
      "ki = np.asarray([8, 7,10,12,9])\n",
      "# M\u00e1ximo n\u00famero de serie obtenido\n",
      "mi = np.asarray([271,202,213,185,200])"
     ],
     "language": "python",
     "metadata": {},
     "outputs": [],
     "prompt_number": 7
    },
    {
     "cell_type": "markdown",
     "metadata": {},
     "source": [
      "Para construir un test de hip\u00f3tesis, se considerar\u00e1 a los datos en conjunto como si proviniesen de una \u00fanica batalla con una cantidad total de tanques capturados $k_t$:\n",
      "\n",
      "\\begin{equation}\n",
      "k_t = \\sum_{i=1}^5 k_i\n",
      "\\end{equation}\n",
      "\n",
      "y un valor m\u00e1ximo m\u00e1ximo $m_t$ observado definido como el mayor entre todos los m\u00e1ximos n\u00fameros de series obtenidos de cada batalla:\n",
      "\n",
      "\\begin{equation}\n",
      "m_{t} = \\max\\limits_{i=1\\ldots 5}\\{m_i\\}\n",
      "\\end{equation}\n",
      "\n"
     ]
    },
    {
     "cell_type": "code",
     "collapsed": false,
     "input": [
      "# Batallas totales\n",
      "kt = ki.sum()\n",
      "# M\u00e1ximo n\u00famero de serie entre todas las batallas\n",
      "mt = mi.max()\n",
      "\n",
      "print('De un total de {} tanques capturados, el m\u00e1ximo \\\n",
      "n\u00famero de serie informado fue {}'.format(kt,mt))"
     ],
     "language": "python",
     "metadata": {},
     "outputs": [
      {
       "output_type": "stream",
       "stream": "stdout",
       "text": [
        "De un total de 46 tanques capturados, el m\u00e1ximo n\u00famero de serie informado fue 271\n"
       ]
      }
     ],
     "prompt_number": 8
    },
    {
     "cell_type": "markdown",
     "metadata": {},
     "source": [
      "Al abordar el problema desde este punto de vista resulta v\u00e1lido aplicar el mismo test, con el mismo estad\u00edstico que se utiliz\u00f3 previamente en el __Item 1__. Tanto las hip\u00f3tesis nula como la alternativa siguen siendo las mismas, solamente que ahora la distribuci\u00f3n del estad\u00edstico estar\u00e1 definida con un nuevo valor para la cantidad de tanques capturados $k_t$:\n",
      "\n",
      "\\begin{equation}\n",
      "P(m; k_t, N) = \\frac{\\binom{m-1}{k_t-1}}{\\binom{N}{k_t}} \\qquad \\text{con } m = k_t,k_t+1,\\ldots,N\n",
      "\\end{equation}\n",
      "\n",
      "De la misma forma en que se hizo anteriormente, se calcula el p-valor cuando el militar informa un m\u00e1ximo numero de serie $m_t=271$:"
     ]
    },
    {
     "cell_type": "code",
     "collapsed": false,
     "input": [
      "m = np.arange(kt,mt+1)\n",
      "x = proba_max(m,kt,N)\n",
      "p=x.sum()\n",
      "print('El p-valor obtenido es {:.2f}'.format(p))"
     ],
     "language": "python",
     "metadata": {},
     "outputs": [
      {
       "output_type": "stream",
       "stream": "stdout",
       "text": [
        "El p-valor obtenido es 1.00\n"
       ]
      }
     ],
     "prompt_number": 9
    },
    {
     "cell_type": "markdown",
     "metadata": {},
     "source": [
      "Este resultado podr\u00eda haberse predicho sin hacer ninguna cuenta, ya que el militar estaba informando el m\u00e1ximo valor posible $m_t=N$ que pod\u00eda tomar el n\u00famero de seri. Al obtenerse un valor $p=1.00$ resulta que sea cual fuere el nivel de significancia elegido para este test, jam\u00e1s se podr\u00e1 rechazar la hipotesis nula."
     ]
    },
    {
     "cell_type": "markdown",
     "metadata": {},
     "source": [
      "---------------\n",
      "\n",
      "Item 3\n",
      "------"
     ]
    },
    {
     "cell_type": "markdown",
     "metadata": {},
     "source": [
      "_Hubo varias batallas en las que el n\u00famero de tanques capturados fue ex\u00e1ctamente $k=7$ y en cada una de ellas un militar diferente inform\u00f3 el m\u00e1ximo n\u00famero de serie observado $m$._\n",
      "\n",
      "_Establezca un valor cr\u00edtico para el n\u00famero de serie informado $m_c$ que permita decidir, con un $80\\%$ de nivel de confianza, si los valores de $m$ fueron falsificados._"
     ]
    },
    {
     "cell_type": "markdown",
     "metadata": {},
     "source": [
      "Se va a trabajar con la funci\u00f3n de distribuci\u00f3n de probabilidad previamente definida $P(m;k,N)$ con el mismo valor $N=271$ pero cambiando la cantidad de tanques capturado a $k=7$:"
     ]
    },
    {
     "cell_type": "code",
     "collapsed": false,
     "input": [
      "# N\u00famero total de tanques fabricados\n",
      "N = 271\n",
      "# N\u00famero de tanques capturados en la batalla\n",
      "k = 7\n",
      "# Valores m\u00e1ximos posibles que podr\u00edan haberse observado\n",
      "m = np.arange(k,N+1)\n",
      "# Obtengo la probabilidad para cada valor\n",
      "x = proba_max(m,k,N)"
     ],
     "language": "python",
     "metadata": {},
     "outputs": [],
     "prompt_number": 10
    },
    {
     "cell_type": "markdown",
     "metadata": {},
     "source": [
      "**Aproximaci\u00f3n**: Utilizar esta distribuci\u00f3n de probabilidad s\u00f3lo puede ser aplicada a la primer batalla. Luego, como ya habr\u00e1n $7$ tanques menos, y la distribuci\u00f3n de $m$ tambi\u00e9n empezar\u00eda a depender de los n\u00fameros de serie que se hubiesen obtenido en las batallas previas. Todas estas consideraciones no ser\u00e1n tenidas en cuenta, y se asumir\u00e1 que al tomar $k=7$ tanques no se modifica sustancialmente el tama\u00f1o de la poblaci\u00f3n de tanques totales $N=271$."
     ]
    },
    {
     "cell_type": "markdown",
     "metadata": {},
     "source": [
      "### Valor cr\u00edtico\n",
      "\n",
      "Buscar un nivel de confianza del $80\\%$ es equivalente a pedir un nivel de significancia de $20\\%$ ($\\alpha=0.2$). Esto significa que se quiere encontrar un valor $m_c$ tal que la probabilidad de obtener resultados m\u00e1s desfavorables que $m_c$ sea justamente $\\alpha$:\n",
      "\n",
      "\\begin{equation}\n",
      "P(m\\leq m_c;k,N) = \\alpha\n",
      "\\end{equation}\n",
      "\n",
      "Resulta de utilidad, en base a la anterior ecuaci\u00f3n, definir y trabajar con la funci\u00f3n de distribuci\u00f3n acumulada de la variable $m$:\n",
      "\n",
      "\\begin{equation}\n",
      "F(t) = P(m\\leq t;k,N) = \\sum_{m=k}^t P(m;k,N)  \\qquad \\text{con} \\quad t=k,\\ldots,N\n",
      "\\end{equation}\n",
      "\n",
      "Juntando las dos \u00faltimas ecuaciones se puede escribir de forma m\u00e1s compacta la relaci\u00f3n que se busca invertir para obtener el $m_c$:\n",
      "\n",
      "\\begin{equation}\n",
      "F(m_c) = \\alpha = 0.2\n",
      "\\end{equation}\n",
      "\n",
      "Esa ecuaci\u00f3n se invertir\u00e1 num\u00e9ricamente buscando para qu\u00e9 valor de la funci\u00f3n acumulada $F(t)$ se obtiene el nivel deseado de $0.2$."
     ]
    },
    {
     "cell_type": "code",
     "collapsed": false,
     "input": [
      "# Se busca el \u00edndice para el cual la funci\u00f3n acumulada est\u00e9 lo m\u00e1s cercano posible a 0.2\n",
      "ind_x = np.where(np.cumsum(x)<=0.2)[0].max()\n",
      "# Se evalua el indice encontrado en el array de los m\n",
      "m_c = m[ind_x]\n",
      "\n",
      "print('Valor cr\u00edtico para un test con un {:.2f}% \\\n",
      "de significancia: {:d}'.format(100*np.cumsum(x)[ind_x],m_c))"
     ],
     "language": "python",
     "metadata": {},
     "outputs": [
      {
       "output_type": "stream",
       "stream": "stdout",
       "text": [
        "Valor cr\u00edtico para un test con un 19.38% de significancia: 215\n"
       ]
      }
     ],
     "prompt_number": 11
    },
    {
     "cell_type": "markdown",
     "metadata": {},
     "source": [
      "Como la variable aleatoria que se est\u00e1 utilizando es discreta, el valor cr\u00edtico encontrado no genera un nivel de significancia exacto del $20\\%$, sino que es levemente inferior. Se puede buscar el otro valor para el cual el nivel de significancia sea levemente superior:"
     ]
    },
    {
     "cell_type": "code",
     "collapsed": false,
     "input": [
      "# Se busca el \u00edndice para el cual la funci\u00f3n acumulada est\u00e9 lo m\u00e1s cercano posible a 0.2\n",
      "ind_x = np.where(np.cumsum(x)>=0.2)[0].min()\n",
      "# Se evalua el indice encontrado en el array de los m\n",
      "m_c = m[ind_x]\n",
      "\n",
      "print('Valor cr\u00edtico para un test con un {:.2f}% \\\n",
      "de significancia: {:d}'.format(100*np.cumsum(x)[ind_x],m_c))"
     ],
     "language": "python",
     "metadata": {},
     "outputs": [
      {
       "output_type": "stream",
       "stream": "stdout",
       "text": [
        "Valor cr\u00edtico para un test con un 20.03% de significancia: 216\n"
       ]
      }
     ],
     "prompt_number": 12
    },
    {
     "cell_type": "markdown",
     "metadata": {},
     "source": [
      "Debido a que en este caso se obtiene una significancia m\u00e1s cercano al $20\\%$ requerido, ser\u00e1 el utilizado para definir la zona cr\u00edtica del test:\n",
      "\n",
      "\\begin{equation}\n",
      "m_c = 216\n",
      "\\end{equation}"
     ]
    },
    {
     "cell_type": "markdown",
     "metadata": {},
     "source": [
      "### Gr\u00e1fico de la funci\u00f3n distribuci\u00f3n\n",
      "\n",
      "Se grafica a continuaci\u00f3n al a funci\u00f3n de distribuci\u00f3n acumulada $F(t)$ definida previamente con los valores $k=7$ y $N=271$. Se indica tambi\u00e9n el valor cr\u00edtico $m_c$ encontrado para obtener un nivel de significancia del $\\alpha=0.2$."
     ]
    },
    {
     "cell_type": "code",
     "collapsed": false,
     "input": [
      "fig3, ax3 = plt.subplots(figsize=(10,6))\n",
      "\n",
      "ax3.bar(m,np.cumsum(x),align='center', color = 'grey', alpha=0.7, width = 1, lw = 0,)\n",
      "ax3.plot([m_c,m_c],[0,np.cumsum(x)[ind_x]],'b',lw=2)\n",
      "ax3.plot([0,m_c],[np.cumsum(x)[ind_x],np.cumsum(x)[ind_x]],'b',lw=2)\n",
      "ax3.plot(m_c,np.cumsum(x)[ind_x],'bo',lw=2,ms=10)\n",
      "\n",
      "ax3.grid('on')\n",
      "ax3.set_xlabel(u'M\u00e1ximo n\u00famero de serie observado',fontsize=14)\n",
      "ax3.set_ylabel('Probabilidad acumulada',fontsize=14)\n",
      "ax3.set_title('Figura {}'.format(3),fontsize=14);"
     ],
     "language": "python",
     "metadata": {},
     "outputs": [
      {
       "metadata": {},
       "output_type": "display_data",
       "png": "[encoded data removed]",
       "text": [
        "<matplotlib.figure.Figure at 0x7f664dba2fd0>"
       ]
      }
     ],
     "prompt_number": 13
    },
    {
     "cell_type": "heading",
     "level": 4,
     "metadata": {},
     "source": [
      "_Figura 3: Gr\u00e1fico de la funci\u00f3n de distribuci\u00f3n acumulada para la variable aleatoria $m$ (m\u00e1ximo n\u00famero de serie observado) con los valores $k=7$ y $N=271$. En azul se muestra el punto correspondiente al valor cr\u00edtico $m_c$ hallado para el cual $F(m_c)=\\alpha$_"
     ]
    },
    {
     "cell_type": "markdown",
     "metadata": {},
     "source": [
      "### Gr\u00e1fico de la zona cr\u00edtica\n",
      "\n",
      "Una vez encontrado el valor cr\u00edtico $m_c$ queda completamente definida la zona de rechazo del test. En el siguiente gr\u00e1fico se grafica esta zona superpuesta con la distribuci\u00f3n de probabilidad $P(m;k=7,N=271)$:"
     ]
    },
    {
     "cell_type": "code",
     "collapsed": false,
     "input": [
      "fig4, ax4 = plt.subplots(figsize=(10,6))\n",
      "\n",
      "ax4.bar(m,x,align='center', color = 'grey', alpha=0.7, width = 1, lw = 0,)\n",
      "ax4.bar(m[m<=m_c],x[m<=m_c],align='center', color = 'green', alpha=0.7, width = 1, lw = 0,)\n",
      "\n",
      "ax4.grid('on')\n",
      "ax4.set_xlabel(u'M\u00e1ximo n\u00famero de serie observado',fontsize=14)\n",
      "ax4.set_ylabel('Probabilidad',fontsize=14)\n",
      "ax4.set_title('Figura {}'.format(4),fontsize=14);\n"
     ],
     "language": "python",
     "metadata": {},
     "outputs": [
      {
       "metadata": {},
       "output_type": "display_data",
       "png": "[encoded data removed]",
       "text": [
        "<matplotlib.figure.Figure at 0x7f6652aba390>"
       ]
      }
     ],
     "prompt_number": 14
    },
    {
     "cell_type": "heading",
     "level": 4,
     "metadata": {},
     "source": [
      "_Figura 4: Gr\u00e1fico de la zona de rechazo (en verde) definida por el valor cr\u00edtico $m_c=216$. En gris se muestra la funci\u00f3n de distribuci\u00f3n de probabilidad $P(m;k,N)$_"
     ]
    },
    {
     "cell_type": "markdown",
     "metadata": {},
     "source": [
      ".\n",
      "\n",
      "De esta manera, se obtuvo el valor cr\u00edtico de $m_c=216$, el cual servir\u00e1 para aceptar o rechazar la hip\u00f3tesis nula de que el militar est\u00e9 diciendo la verdad al informar su n\u00famero de serie m\u00e1ximo observado.\n",
      "\n",
      "Si el valor informado $m_{obs} < 216$ se caer\u00e1 dentro de la zona de rechazo, por lo cual se rechazar\u00e1 la hip\u00f3tesis de que el militar dice la verdad con una significancia del $20\\%$, indicando que sus datos fueron falsificados.\n",
      "\n",
      "Por lo contrario, si informa un valor $m_{obs} \\ge 216$ no habr\u00e1 evidencia suficiente para rechazar la hip\u00f3tesis de que el militar est\u00e9 diciendo la verdad."
     ]
    },
    {
     "cell_type": "code",
     "collapsed": false,
     "input": [
      "import sys,matplotlib,scipy\n",
      "print('Python: {}'.format('.'.join(map(str, sys.version_info[:3]))))\n",
      "print('Numpy: {}'.format(np.__version__))\n",
      "print('Matplotlib: {}'.format(matplotlib.__version__))\n",
      "print('Scipy: {}'.format(scipy.__version__))"
     ],
     "language": "python",
     "metadata": {},
     "outputs": [
      {
       "output_type": "stream",
       "stream": "stdout",
       "text": [
        "Python: 2.7.12\n",
        "Numpy: 1.11.0\n",
        "Matplotlib: 1.5.1\n",
        "Scipy: 0.17.0\n"
       ]
      }
     ],
     "prompt_number": 15
    }
   ],
   "metadata": {}
  }
 ]
}